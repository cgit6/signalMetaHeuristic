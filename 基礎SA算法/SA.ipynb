{
 "cells": [
  {
   "cell_type": "code",
   "execution_count": 1,
   "metadata": {},
   "outputs": [],
   "source": [
    "import numpy as np"
   ]
  },
  {
   "cell_type": "code",
   "execution_count": null,
   "metadata": {},
   "outputs": [],
   "source": [
    "# 生成初始解\n",
    "def initialization(pop,ub,lb,dim):\n",
    "    \n",
    "    X = np.zeros([pop,dim]) #声明空间\n",
    "    for i in range(pop):\n",
    "        for j in range(dim):\n",
    "            X[i,j]=(ub[j]-lb[j])*np.random.random()+lb[j] #生成[lb,ub]之间的随机数\n",
    "    \n",
    "    return X"
   ]
  },
  {
   "cell_type": "code",
   "execution_count": null,
   "metadata": {},
   "outputs": [],
   "source": [
    "# 定義冷卻時間表\n",
    "def cool(t):\n",
    "    return 0.99*t\n"
   ]
  },
  {
   "cell_type": "code",
   "execution_count": null,
   "metadata": {},
   "outputs": [],
   "source": [
    "#定義移動函數\n",
    "def move(x):\n",
    "    dx = np.random.randn(*x.shape)*0.01\n",
    "    return x + dx"
   ]
  },
  {
   "cell_type": "code",
   "execution_count": null,
   "metadata": {},
   "outputs": [],
   "source": [
    "# 定義接受概率函數\n",
    "def accept_prob(delta_e, t):\n",
    "    return np.exp(-delta_e/t)"
   ]
  },
  {
   "cell_type": "code",
   "execution_count": 9,
   "metadata": {},
   "outputs": [],
   "source": [
    "def SA(nodes, members, E, A, supports, loads,MaxIter):\n",
    "    # 定義初始解決方案\n",
    "    # np.random.randn()函數創建一個指定形狀的數組，並按照標準正態分佈用隨機值填充它。\n",
    "    initial = nodes + np.random.randn(*nodes.shape)*0.01\n",
    "    # 定義迭代次數\n",
    "    n_iter = 1000\n",
    "\n",
    "    # 初始化當前解和能量\n",
    "    current = initial\n",
    "    current_fitness = fitness(current)\n",
    "\n",
    "    # 存儲迄今為止找到的最佳解決方案和能量\n",
    "    best = current\n",
    "    best_fitness = current_fitness\n",
    "\n",
    "    #存儲能量紀錄\n",
    "    fitness_history = [current_fitness]\n",
    "\n",
    "    # 遍歷迭代次數\n",
    "    for i in range(n_iter):\n",
    "        # Update the temperature\n",
    "        t = cool(i/n_iter)\n",
    "\n",
    "        # 生成新的候選解\n",
    "        candidate = move(current)\n",
    "        candidate_fitness = fitness(candidate)\n",
    "\n",
    "        # 計算能量差\n",
    "        delta_e = candidate_fitness - current_fitness\n",
    "\n",
    "        # 決定是否接受候選解\n",
    "\n",
    "        if delta_e < 0 or np.random.rand() < accept_prob(delta_e, t):\n",
    "            current = candidate\n",
    "            current_fitness = candidate_fitness\n",
    "\n",
    "            # 更新目前找到的最佳方案\n",
    "            if current_fitness < best_fitness:\n",
    "                best = current\n",
    "                best_fitness = current_fitness\n",
    "\n",
    "        # 存儲能源歷史\n",
    "        fitness_history.append(current_fitness)\n",
    "\n",
    "    # 返回找到的最佳解決方案\n",
    "    return best, best_fitness, fitness_history\n",
    "\n",
    "\n"
   ]
  },
  {
   "attachments": {},
   "cell_type": "markdown",
   "metadata": {},
   "source": [
    "這個函數的輸入參數包括：\n",
    "\n",
    "- `nodes`：表示所有節點的坐標，每行一個節點，列數為節點數量。\n",
    "- `members`：表示所有桿件的連接情況，每行一個桿件，包含兩個整數表示連接的兩個節點的編號。\n",
    "- `E`：表示所有桿件的材料彈性模量，長度等於桿件數量。\n",
    "- `A`：表示所有桿件的截面面積，長度等於桿件數量。\n",
    "- `supports`：表示受力支撐點的節點編號。\n",
    "- `loads`：表示所有節點的受力情況，每行包含兩個浮點數，分別表示該節點在x軸和y軸方向的受力大小。\n",
    "\n",
    "該函數的輸出包括：\n",
    "\n",
    "- `best`：表示找到的最佳解，與輸入的節點坐標相加得到實際節點坐標。\n",
    "- `best_energy`：表示找到的最佳解的能量。\n",
    "- `energy_history`：表示找到的所有解的能量，用於後續繪圖等用途。"
   ]
  }
 ],
 "metadata": {
  "kernelspec": {
   "display_name": "env1",
   "language": "python",
   "name": "python3"
  },
  "language_info": {
   "codemirror_mode": {
    "name": "ipython",
    "version": 3
   },
   "file_extension": ".py",
   "mimetype": "text/x-python",
   "name": "python",
   "nbconvert_exporter": "python",
   "pygments_lexer": "ipython3",
   "version": "3.9.13"
  },
  "orig_nbformat": 4,
  "vscode": {
   "interpreter": {
    "hash": "794bc639cfa8d250a3d1ea8036bbcb68e77a70f8e71b735e1e208a103fb8b335"
   }
  }
 },
 "nbformat": 4,
 "nbformat_minor": 2
}
